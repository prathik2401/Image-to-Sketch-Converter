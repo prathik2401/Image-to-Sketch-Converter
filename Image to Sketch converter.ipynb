{
 "cells": [
  {
   "cell_type": "markdown",
   "id": "253d7670",
   "metadata": {},
   "source": [
    "# Colour Image to Sketch Converter\n",
    "Using Python libraries, convert images to sketch using grayscaling the image, blurring, inverting and dividing the image"
   ]
  },
  {
   "cell_type": "code",
   "execution_count": null,
   "id": "ce7c52ac",
   "metadata": {
    "scrolled": true
   },
   "outputs": [],
   "source": [
    "pip install opencv-contrib-python"
   ]
  },
  {
   "cell_type": "code",
   "execution_count": null,
   "id": "6f64d02f",
   "metadata": {},
   "outputs": [],
   "source": [
    "import cv2 as cv"
   ]
  },
  {
   "cell_type": "markdown",
   "id": "e07ebb72",
   "metadata": {},
   "source": [
    "### Main code"
   ]
  },
  {
   "cell_type": "code",
   "execution_count": null,
   "id": "1c2c3511",
   "metadata": {},
   "outputs": [],
   "source": [
    "img1 = cv.imread('./img.jpg')\n",
    "img = cv.resize(img1, (540, 960))\n",
    "cv.imshow('Original Image', img)\n",
    "#Converting image to grayscale\n",
    "grayscale_image = cv.cvtColor(img, cv.COLOR_BGR2GRAY)\n",
    "cv.imshow('Grayscale image', grayscale_image)\n",
    "\n",
    "#inverting image\n",
    "inverted_image = cv.bitwise_not(grayscale_image)\n",
    "cv.imshow('Inverted image', inverted_image)\n",
    "\n",
    "#blurring the image for sketch\n",
    "blurred_image = cv.GaussianBlur(inverted_image, (19, 19), 0)\n",
    "\n",
    "#inverted and blurred image\n",
    "inv_blurred_image = cv.bitwise_not(blurred_image)\n",
    "\n",
    "#sketching the image\n",
    "sketched_image = cv.divide(grayscale_image, inv_blurred_image, scale=257.0)\n",
    "cv.imshow('Sketch image', sketched_image)\n",
    "\n",
    "cv.waitKey(0)"
   ]
  }
 ],
 "metadata": {
  "kernelspec": {
   "display_name": "Python 3 (ipykernel)",
   "language": "python",
   "name": "python3"
  },
  "language_info": {
   "codemirror_mode": {
    "name": "ipython",
    "version": 3
   },
   "file_extension": ".py",
   "mimetype": "text/x-python",
   "name": "python",
   "nbconvert_exporter": "python",
   "pygments_lexer": "ipython3",
   "version": "3.11.4"
  }
 },
 "nbformat": 4,
 "nbformat_minor": 5
}
