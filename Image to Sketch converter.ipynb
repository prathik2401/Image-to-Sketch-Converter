{
 "cells": [
  {
   "cell_type": "markdown",
   "id": "253d7670",
   "metadata": {},
   "source": [
    "# Colour Image to Sketch Converter\n",
    "Using Python libraries, convert images to sketch using grayscaling the image, blurring, inverting and dividing the image"
   ]
  },
  {
   "cell_type": "code",
   "execution_count": 1,
   "id": "ce7c52ac",
   "metadata": {
    "scrolled": true
   },
   "outputs": [
    {
     "name": "stdout",
     "output_type": "stream",
     "text": [
      "Defaulting to user installation because normal site-packages is not writeable\n",
      "Requirement already satisfied: opencv-contrib-python in c:\\users\\prathik\\appdata\\roaming\\python\\python311\\site-packages (4.9.0.80)\n",
      "Requirement already satisfied: numpy>=1.21.2 in c:\\programdata\\anaconda3\\lib\\site-packages (from opencv-contrib-python) (1.24.3)\n",
      "Note: you may need to restart the kernel to use updated packages.\n"
     ]
    }
   ],
   "source": [
    "pip install opencv-contrib-python"
   ]
  },
  {
   "cell_type": "code",
   "execution_count": 3,
   "id": "6f64d02f",
   "metadata": {},
   "outputs": [],
   "source": [
    "import cv2 as cv"
   ]
  },
  {
   "cell_type": "markdown",
   "id": "e07ebb72",
   "metadata": {},
   "source": [
    "### Main code"
   ]
  },
  {
   "cell_type": "code",
   "execution_count": null,
   "id": "1c2c3511",
   "metadata": {},
   "outputs": [],
   "source": [
    "img = cv.imread('./img.jpg')\n",
    "\n",
    "#Converting image to grayscale\n",
    "grayscale_image = cv.cvtColor(img, cv.COLOR_BGR2GRAY)\n",
    "cv.imshow('Grayscale image', grayscale_image)\n",
    "\n",
    "#inverting image\n",
    "inverted_image = cv.bitwise_not(grayscale_image)\n",
    "cv.imshow('Inverted image', inverted_image)\n",
    "\n",
    "#blurring the image for sketch\n",
    "blurred_image = cv.GaussianBlur(inverted_image, (19, 19), 0)\n",
    "\n",
    "#inverted and blurred image\n",
    "inv_blurred_image = cv.bitwise_not(blurred_image)\n",
    "\n",
    "#sketching the image\n",
    "sketched_image = cv.divide(grayscale_image, inv_blurred_image, scale=257.0)\n",
    "cv.imshow('Sketch image', sketched_image)\n",
    "\n",
    "cv.waitKey(0)"
   ]
  }
 ],
 "metadata": {
  "kernelspec": {
   "display_name": "Python 3 (ipykernel)",
   "language": "python",
   "name": "python3"
  },
  "language_info": {
   "codemirror_mode": {
    "name": "ipython",
    "version": 3
   },
   "file_extension": ".py",
   "mimetype": "text/x-python",
   "name": "python",
   "nbconvert_exporter": "python",
   "pygments_lexer": "ipython3",
   "version": "3.11.5"
  }
 },
 "nbformat": 4,
 "nbformat_minor": 5
}
